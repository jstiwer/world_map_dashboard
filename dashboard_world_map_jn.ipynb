{
 "cells": [
  {
   "cell_type": "code",
   "execution_count": 1,
   "metadata": {},
   "outputs": [],
   "source": [
    "import pandas as pd\n",
    "from countryinfo import CountryInfo\n",
    "import pypopulation\n",
    "import plotly.graph_objects as go"
   ]
  },
  {
   "cell_type": "code",
   "execution_count": 2,
   "metadata": {},
   "outputs": [],
   "source": [
    "countries = pd.read_csv('countries.csv')"
   ]
  },
  {
   "cell_type": "code",
   "execution_count": 3,
   "metadata": {},
   "outputs": [],
   "source": [
    "#https://data.worldbank.org/indicator/NY.GDP.MKTP.CD\n",
    "GDP = pd.read_excel('GDP_2021.xlsx')"
   ]
  },
  {
   "cell_type": "code",
   "execution_count": 4,
   "metadata": {},
   "outputs": [],
   "source": [
    "def add_code(df_input):\n",
    "        def temp(row):\n",
    "            input_country =  row.country\n",
    "            country = CountryInfo(input_country)\n",
    "            try: \n",
    "                code = country.alt_spellings()\n",
    "                code = code[0]\n",
    "                return code\n",
    "            except: \n",
    "                return 'Code not found'\n",
    "  \n",
    "        df_output = df_input.assign(code = df_input.apply(temp, axis = 1))\n",
    "        return df_output"
   ]
  },
  {
   "cell_type": "code",
   "execution_count": 5,
   "metadata": {},
   "outputs": [],
   "source": [
    "def add_capital(df_input):\n",
    "        def temp(row):\n",
    "            input_country =  row.country\n",
    "            country = CountryInfo(input_country)\n",
    "            try: \n",
    "                capital = country.capital()\n",
    "                return capital\n",
    "            except: \n",
    "                return 'Capital not found'\n",
    "  \n",
    "        df_output = df_input.assign(capital = df_input.apply(temp, axis = 1))\n",
    "        return df_output"
   ]
  },
  {
   "cell_type": "code",
   "execution_count": 6,
   "metadata": {},
   "outputs": [],
   "source": [
    "def add_language(df_input):\n",
    "        def temp(row):\n",
    "            input_country =  row.country\n",
    "            country = CountryInfo(input_country)\n",
    "            try: \n",
    "                language = country.languages()\n",
    "                language = list(map(lambda x: x.upper(), language))\n",
    "                return language\n",
    "            except: \n",
    "                return 'Language not found'\n",
    "  \n",
    "        df_output = df_input.assign(language = df_input.apply(temp, axis = 1))\n",
    "        return df_output"
   ]
  },
  {
   "cell_type": "code",
   "execution_count": 7,
   "metadata": {},
   "outputs": [],
   "source": [
    "def add_population(df_input):\n",
    "        def temp(row):\n",
    "            input_country =  row.country\n",
    "            country = CountryInfo(input_country)\n",
    "            try: \n",
    "                code =  country.alt_spellings()[0]\n",
    "                population = pypopulation.get_population(code)\n",
    "                population = '{:,}'.format(population).replace(',','.')\n",
    "                return population\n",
    "            except: \n",
    "                return 'Population not found'\n",
    "  \n",
    "        df_output = df_input.assign(population = df_input.apply(temp, axis = 1))\n",
    "        return df_output"
   ]
  },
  {
   "cell_type": "code",
   "execution_count": 8,
   "metadata": {},
   "outputs": [],
   "source": [
    "def add_GDP_2021(df_input):\n",
    "        def temp(row):\n",
    "            input_country =  row.country\n",
    "            try: \n",
    "                for i in range (len(GDP)):\n",
    "                    if input_country == GDP['Country Name'][i]:\n",
    "                        GDP_2021 = GDP[2021][i]\n",
    "                return GDP_2021\n",
    "            except: \n",
    "                return 'GDP 2021 not found'\n",
    "  \n",
    "        df_output = df_input.assign(GDP_2021_USD = df_input.apply(temp, axis = 1))\n",
    "        return df_output"
   ]
  },
  {
   "cell_type": "code",
   "execution_count": 9,
   "metadata": {},
   "outputs": [],
   "source": [
    "countries = add_code(countries)\n",
    "countries = add_capital(countries)\n",
    "countries = add_language(countries)\n",
    "countries = add_population(countries)\n",
    "countries = add_GDP_2021(countries)"
   ]
  },
  {
   "cell_type": "code",
   "execution_count": 10,
   "metadata": {},
   "outputs": [
    {
     "data": {
      "text/html": [
       "<div>\n",
       "<style scoped>\n",
       "    .dataframe tbody tr th:only-of-type {\n",
       "        vertical-align: middle;\n",
       "    }\n",
       "\n",
       "    .dataframe tbody tr th {\n",
       "        vertical-align: top;\n",
       "    }\n",
       "\n",
       "    .dataframe thead th {\n",
       "        text-align: right;\n",
       "    }\n",
       "</style>\n",
       "<table border=\"1\" class=\"dataframe\">\n",
       "  <thead>\n",
       "    <tr style=\"text-align: right;\">\n",
       "      <th></th>\n",
       "      <th>country</th>\n",
       "      <th>code</th>\n",
       "      <th>capital</th>\n",
       "      <th>language</th>\n",
       "      <th>population</th>\n",
       "      <th>GDP_2021_USD</th>\n",
       "    </tr>\n",
       "  </thead>\n",
       "  <tbody>\n",
       "    <tr>\n",
       "      <th>0</th>\n",
       "      <td>Afghanistan</td>\n",
       "      <td>AF</td>\n",
       "      <td>Kabul</td>\n",
       "      <td>[PS, UZ, TK]</td>\n",
       "      <td>38.041.754</td>\n",
       "      <td>14786861638.453501</td>\n",
       "    </tr>\n",
       "    <tr>\n",
       "      <th>1</th>\n",
       "      <td>Albania</td>\n",
       "      <td>AL</td>\n",
       "      <td>Tirana</td>\n",
       "      <td>[SQ]</td>\n",
       "      <td>2.854.191</td>\n",
       "      <td>18255787479.184601</td>\n",
       "    </tr>\n",
       "    <tr>\n",
       "      <th>2</th>\n",
       "      <td>Algeria</td>\n",
       "      <td>DZ</td>\n",
       "      <td>Algiers</td>\n",
       "      <td>[AR]</td>\n",
       "      <td>43.053.054</td>\n",
       "      <td>163044443983.759003</td>\n",
       "    </tr>\n",
       "    <tr>\n",
       "      <th>3</th>\n",
       "      <td>American Samoa</td>\n",
       "      <td>AS</td>\n",
       "      <td>Pago Pago</td>\n",
       "      <td>[EN, SM]</td>\n",
       "      <td>55.312</td>\n",
       "      <td>709000000.0</td>\n",
       "    </tr>\n",
       "    <tr>\n",
       "      <th>4</th>\n",
       "      <td>Andorra</td>\n",
       "      <td>Code not found</td>\n",
       "      <td>Capital not found</td>\n",
       "      <td>Language not found</td>\n",
       "      <td>Population not found</td>\n",
       "      <td>3330281523.53915</td>\n",
       "    </tr>\n",
       "  </tbody>\n",
       "</table>\n",
       "</div>"
      ],
      "text/plain": [
       "          country            code            capital            language  \\\n",
       "0     Afghanistan              AF              Kabul        [PS, UZ, TK]   \n",
       "1         Albania              AL             Tirana                [SQ]   \n",
       "2         Algeria              DZ            Algiers                [AR]   \n",
       "3  American Samoa              AS          Pago Pago            [EN, SM]   \n",
       "4         Andorra  Code not found  Capital not found  Language not found   \n",
       "\n",
       "             population         GDP_2021_USD  \n",
       "0            38.041.754   14786861638.453501  \n",
       "1             2.854.191   18255787479.184601  \n",
       "2            43.053.054  163044443983.759003  \n",
       "3                55.312          709000000.0  \n",
       "4  Population not found     3330281523.53915  "
      ]
     },
     "execution_count": 10,
     "metadata": {},
     "output_type": "execute_result"
    }
   ],
   "source": [
    "countries.head()"
   ]
  },
  {
   "cell_type": "code",
   "execution_count": 12,
   "metadata": {},
   "outputs": [
    {
     "data": {
      "text/plain": [
       "'\\nfig = go.Figure(go.Scattergeo( locations = countries[\\'code\\'],\\nz = countries[\\'capital\\']\\n\\n))\\nfig.update_geos(projection_type = \"natural earth\", showcountries = True, countrycolor=\"Black\", showlakes = False)\\nfig.update_layout(title=\\'World map\\', font=dict(size=18) , title_y=0.5, title_x=0.2, height=300, margin={\"r\":0,\"t\":20,\"l\":0,\"b\":20})\\nfig.show()'"
      ]
     },
     "execution_count": 12,
     "metadata": {},
     "output_type": "execute_result"
    }
   ],
   "source": [
    "#https://medium.com/analytics-vidhya/plotly-for-geomaps-bb75d1de189f\n",
    "#https://plotly.com/python/reference/layout/#layout-title-pad\n",
    "### It have a bug\n",
    "'''\n",
    "fig = go.Figure(go.Scattergeo( locations = countries['code'],\n",
    "z = countries['capital']\n",
    "\n",
    "))\n",
    "fig.update_geos(projection_type = \"natural earth\", showcountries = True, countrycolor=\"Black\", showlakes = False)\n",
    "fig.update_layout(title='World map', font=dict(size=18) , title_y=0.5, title_x=0.2, height=300, margin={\"r\":0,\"t\":20,\"l\":0,\"b\":20})\n",
    "fig.show()'''"
   ]
  }
 ],
 "metadata": {
  "kernelspec": {
   "display_name": "Python 3",
   "language": "python",
   "name": "python3"
  },
  "language_info": {
   "codemirror_mode": {
    "name": "ipython",
    "version": 3
   },
   "file_extension": ".py",
   "mimetype": "text/x-python",
   "name": "python",
   "nbconvert_exporter": "python",
   "pygments_lexer": "ipython3",
   "version": "3.10.4"
  },
  "orig_nbformat": 4,
  "vscode": {
   "interpreter": {
    "hash": "bd6ef85fe50e86292ef54aa5a1e212b27b54c7e96acc8672e6ffc9c7174fe1fb"
   }
  }
 },
 "nbformat": 4,
 "nbformat_minor": 2
}
