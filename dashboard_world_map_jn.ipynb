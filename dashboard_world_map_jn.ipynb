{
 "cells": [
  {
   "cell_type": "code",
   "execution_count": 1,
   "metadata": {},
   "outputs": [],
   "source": [
    "import pandas as pd\n",
    "from countryinfo import CountryInfo\n",
    "import pypopulation\n",
    "import plotly.graph_objects as go"
   ]
  },
  {
   "cell_type": "code",
   "execution_count": 2,
   "metadata": {},
   "outputs": [],
   "source": [
    "countries = pd.read_csv('Countries.csv', delimiter=';')"
   ]
  },
  {
   "cell_type": "code",
   "execution_count": 3,
   "metadata": {},
   "outputs": [],
   "source": [
    "#https://data.worldbank.org/indicator/NY.GDP.MKTP.CD\n",
    "GDP = pd.read_excel('GDP_2021.xlsx')"
   ]
  },
  {
   "cell_type": "code",
   "execution_count": 4,
   "metadata": {},
   "outputs": [],
   "source": [
    "def add_code(df_input):\n",
    "        def temp(row):\n",
    "            input_country =  row.country\n",
    "            country = CountryInfo(input_country)\n",
    "            try: \n",
    "                code = country.alt_spellings()\n",
    "                code = code[0]\n",
    "                return code\n",
    "            except: \n",
    "                return 'Code not found'\n",
    "  \n",
    "        df_output = df_input.assign(code_2 = df_input.apply(temp, axis = 1))\n",
    "        return df_output"
   ]
  },
  {
   "cell_type": "code",
   "execution_count": 5,
   "metadata": {},
   "outputs": [],
   "source": [
    "def add_capital(df_input):\n",
    "        def temp(row):\n",
    "            input_country =  row.country\n",
    "            country = CountryInfo(input_country)\n",
    "            try: \n",
    "                capital = country.capital()\n",
    "                return capital\n",
    "            except: \n",
    "                return 'Capital not found'\n",
    "  \n",
    "        df_output = df_input.assign(capital = df_input.apply(temp, axis = 1))\n",
    "        return df_output"
   ]
  },
  {
   "cell_type": "code",
   "execution_count": 6,
   "metadata": {},
   "outputs": [],
   "source": [
    "def add_language(df_input):\n",
    "        def temp(row):\n",
    "            input_country =  row.country\n",
    "            country = CountryInfo(input_country)\n",
    "            try: \n",
    "                language = country.languages()\n",
    "                language = list(map(lambda x: x.upper(), language))\n",
    "                return language\n",
    "            except: \n",
    "                return 'Language not found'\n",
    "  \n",
    "        df_output = df_input.assign(language = df_input.apply(temp, axis = 1))\n",
    "        return df_output"
   ]
  },
  {
   "cell_type": "code",
   "execution_count": 7,
   "metadata": {},
   "outputs": [],
   "source": [
    "def add_population(df_input):\n",
    "        def temp(row):\n",
    "            input_country =  row.country\n",
    "            country = CountryInfo(input_country)\n",
    "            try: \n",
    "                code =  country.alt_spellings()[0]\n",
    "                population = pypopulation.get_population(code)\n",
    "                population = '{:,}'.format(population).replace(',','.')\n",
    "                return population\n",
    "            except: \n",
    "                return 'Population not found'\n",
    "  \n",
    "        df_output = df_input.assign(population = df_input.apply(temp, axis = 1))\n",
    "        return df_output"
   ]
  },
  {
   "cell_type": "code",
   "execution_count": 8,
   "metadata": {},
   "outputs": [],
   "source": [
    "def add_GDP_2021(df_input):\n",
    "        def temp(row):\n",
    "            input_country =  row.country\n",
    "            input_code=  row.code\n",
    "            try: \n",
    "                for i in range (len(GDP)):\n",
    "                    if input_country == GDP['Country Name'][i] or input_code == GDP['Country Code'][i] :\n",
    "                        GDP_2021 = GDP[2021][i]\n",
    "                return round(GDP_2021 / 100000000, 2)\n",
    "            except: \n",
    "                return 0\n",
    "  \n",
    "        df_output = df_input.assign(GDP_2021_USD_in_billions = df_input.apply(temp, axis = 1))\n",
    "        return df_output"
   ]
  },
  {
   "cell_type": "code",
   "execution_count": 9,
   "metadata": {},
   "outputs": [],
   "source": [
    "#GDP per capita (current US$)\n",
    "def add_GDP_per_capita_2021(df_input):\n",
    "        def temp(row):\n",
    "            try:\n",
    "                GDP_2021_USD =  float(row.GDP_2021_USD_in_billions)*100000000\n",
    "                population = float(row.population.replace('.',''))\n",
    "                GDP_2021_per_capita = round(GDP_2021_USD / population, 1)\n",
    "                return GDP_2021_per_capita\n",
    "            except: \n",
    "                return 'error'\n",
    "  \n",
    "        df_output = df_input.assign(GDP_2021_per_capita = df_input.apply(temp, axis = 1))\n",
    "        return df_output"
   ]
  },
  {
   "cell_type": "code",
   "execution_count": 10,
   "metadata": {},
   "outputs": [],
   "source": [
    "countries = add_code(countries).fillna(0)\n",
    "countries = add_capital(countries).fillna(0)\n",
    "countries = add_language(countries).fillna(0)\n",
    "countries = add_population(countries).fillna(0)\n",
    "countries = add_GDP_2021(countries).fillna(0)\n",
    "countries = add_GDP_per_capita_2021(countries).fillna(0)"
   ]
  },
  {
   "cell_type": "code",
   "execution_count": 11,
   "metadata": {},
   "outputs": [
    {
     "data": {
      "text/html": [
       "<div>\n",
       "<style scoped>\n",
       "    .dataframe tbody tr th:only-of-type {\n",
       "        vertical-align: middle;\n",
       "    }\n",
       "\n",
       "    .dataframe tbody tr th {\n",
       "        vertical-align: top;\n",
       "    }\n",
       "\n",
       "    .dataframe thead th {\n",
       "        text-align: right;\n",
       "    }\n",
       "</style>\n",
       "<table border=\"1\" class=\"dataframe\">\n",
       "  <thead>\n",
       "    <tr style=\"text-align: right;\">\n",
       "      <th></th>\n",
       "      <th>country</th>\n",
       "      <th>code</th>\n",
       "      <th>code_2</th>\n",
       "      <th>capital</th>\n",
       "      <th>language</th>\n",
       "      <th>population</th>\n",
       "      <th>GDP_2021_USD_in_billions</th>\n",
       "      <th>GDP_2021_per_capita</th>\n",
       "    </tr>\n",
       "  </thead>\n",
       "  <tbody>\n",
       "    <tr>\n",
       "      <th>0</th>\n",
       "      <td>Afghanistan</td>\n",
       "      <td>AFG</td>\n",
       "      <td>AF</td>\n",
       "      <td>Kabul</td>\n",
       "      <td>[PS, UZ, TK]</td>\n",
       "      <td>38.041.754</td>\n",
       "      <td>147.87</td>\n",
       "      <td>388.7</td>\n",
       "    </tr>\n",
       "    <tr>\n",
       "      <th>1</th>\n",
       "      <td>Albania</td>\n",
       "      <td>ALB</td>\n",
       "      <td>AL</td>\n",
       "      <td>Tirana</td>\n",
       "      <td>[SQ]</td>\n",
       "      <td>2.854.191</td>\n",
       "      <td>182.56</td>\n",
       "      <td>6396.2</td>\n",
       "    </tr>\n",
       "    <tr>\n",
       "      <th>2</th>\n",
       "      <td>Algeria</td>\n",
       "      <td>DZA</td>\n",
       "      <td>DZ</td>\n",
       "      <td>Algiers</td>\n",
       "      <td>[AR]</td>\n",
       "      <td>43.053.054</td>\n",
       "      <td>1630.44</td>\n",
       "      <td>3787.0</td>\n",
       "    </tr>\n",
       "    <tr>\n",
       "      <th>3</th>\n",
       "      <td>American Samoa</td>\n",
       "      <td>ASM</td>\n",
       "      <td>AS</td>\n",
       "      <td>Pago Pago</td>\n",
       "      <td>[EN, SM]</td>\n",
       "      <td>55.312</td>\n",
       "      <td>7.09</td>\n",
       "      <td>12818.2</td>\n",
       "    </tr>\n",
       "    <tr>\n",
       "      <th>4</th>\n",
       "      <td>Andorra</td>\n",
       "      <td>AND</td>\n",
       "      <td>Code not found</td>\n",
       "      <td>Capital not found</td>\n",
       "      <td>Language not found</td>\n",
       "      <td>Population not found</td>\n",
       "      <td>33.30</td>\n",
       "      <td>error</td>\n",
       "    </tr>\n",
       "    <tr>\n",
       "      <th>...</th>\n",
       "      <td>...</td>\n",
       "      <td>...</td>\n",
       "      <td>...</td>\n",
       "      <td>...</td>\n",
       "      <td>...</td>\n",
       "      <td>...</td>\n",
       "      <td>...</td>\n",
       "      <td>...</td>\n",
       "    </tr>\n",
       "    <tr>\n",
       "      <th>217</th>\n",
       "      <td>Virgin Islands</td>\n",
       "      <td>VGB</td>\n",
       "      <td>Code not found</td>\n",
       "      <td>Capital not found</td>\n",
       "      <td>Language not found</td>\n",
       "      <td>Population not found</td>\n",
       "      <td>0.00</td>\n",
       "      <td>error</td>\n",
       "    </tr>\n",
       "    <tr>\n",
       "      <th>218</th>\n",
       "      <td>West Bank</td>\n",
       "      <td>WBG</td>\n",
       "      <td>Code not found</td>\n",
       "      <td>Capital not found</td>\n",
       "      <td>Language not found</td>\n",
       "      <td>Population not found</td>\n",
       "      <td>0.00</td>\n",
       "      <td>error</td>\n",
       "    </tr>\n",
       "    <tr>\n",
       "      <th>219</th>\n",
       "      <td>Yemen</td>\n",
       "      <td>YEM</td>\n",
       "      <td>YE</td>\n",
       "      <td>Sana'a</td>\n",
       "      <td>[AR]</td>\n",
       "      <td>29.161.922</td>\n",
       "      <td>0.00</td>\n",
       "      <td>0.0</td>\n",
       "    </tr>\n",
       "    <tr>\n",
       "      <th>220</th>\n",
       "      <td>Zambia</td>\n",
       "      <td>ZMB</td>\n",
       "      <td>ZM</td>\n",
       "      <td>Lusaka</td>\n",
       "      <td>[EN]</td>\n",
       "      <td>17.861.030</td>\n",
       "      <td>221.48</td>\n",
       "      <td>1240.0</td>\n",
       "    </tr>\n",
       "    <tr>\n",
       "      <th>221</th>\n",
       "      <td>Zimbabwe</td>\n",
       "      <td>ZWE</td>\n",
       "      <td>ZW</td>\n",
       "      <td>Harare</td>\n",
       "      <td>[EN, SN, ND]</td>\n",
       "      <td>14.645.468</td>\n",
       "      <td>283.71</td>\n",
       "      <td>1937.2</td>\n",
       "    </tr>\n",
       "  </tbody>\n",
       "</table>\n",
       "<p>222 rows × 8 columns</p>\n",
       "</div>"
      ],
      "text/plain": [
       "            country code          code_2            capital  \\\n",
       "0       Afghanistan  AFG              AF              Kabul   \n",
       "1           Albania  ALB              AL             Tirana   \n",
       "2           Algeria  DZA              DZ            Algiers   \n",
       "3    American Samoa  ASM              AS          Pago Pago   \n",
       "4           Andorra  AND  Code not found  Capital not found   \n",
       "..              ...  ...             ...                ...   \n",
       "217  Virgin Islands  VGB  Code not found  Capital not found   \n",
       "218       West Bank  WBG  Code not found  Capital not found   \n",
       "219           Yemen  YEM              YE             Sana'a   \n",
       "220          Zambia  ZMB              ZM             Lusaka   \n",
       "221        Zimbabwe  ZWE              ZW             Harare   \n",
       "\n",
       "               language            population  GDP_2021_USD_in_billions  \\\n",
       "0          [PS, UZ, TK]            38.041.754                    147.87   \n",
       "1                  [SQ]             2.854.191                    182.56   \n",
       "2                  [AR]            43.053.054                   1630.44   \n",
       "3              [EN, SM]                55.312                      7.09   \n",
       "4    Language not found  Population not found                     33.30   \n",
       "..                  ...                   ...                       ...   \n",
       "217  Language not found  Population not found                      0.00   \n",
       "218  Language not found  Population not found                      0.00   \n",
       "219                [AR]            29.161.922                      0.00   \n",
       "220                [EN]            17.861.030                    221.48   \n",
       "221        [EN, SN, ND]            14.645.468                    283.71   \n",
       "\n",
       "    GDP_2021_per_capita  \n",
       "0                 388.7  \n",
       "1                6396.2  \n",
       "2                3787.0  \n",
       "3               12818.2  \n",
       "4                 error  \n",
       "..                  ...  \n",
       "217               error  \n",
       "218               error  \n",
       "219                 0.0  \n",
       "220              1240.0  \n",
       "221              1937.2  \n",
       "\n",
       "[222 rows x 8 columns]"
      ]
     },
     "execution_count": 11,
     "metadata": {},
     "output_type": "execute_result"
    }
   ],
   "source": [
    "countries"
   ]
  },
  {
   "cell_type": "code",
   "execution_count": 13,
   "metadata": {},
   "outputs": [
    {
     "data": {
      "application/vnd.plotly.v1+json": {
       "config": {
        "plotlyServerURL": "https://plot.ly"
       },
       "data": [
        {
         "autocolorscale": false,
         "colorbar": {
          "tickprefix": "$",
          "title": {
           "text": "GDP<br>Billions USD"
          }
         },
         "colorscale": [
          [
           0,
           "#440154"
          ],
          [
           0.1111111111111111,
           "#482878"
          ],
          [
           0.2222222222222222,
           "#3e4989"
          ],
          [
           0.3333333333333333,
           "#31688e"
          ],
          [
           0.4444444444444444,
           "#26828e"
          ],
          [
           0.5555555555555556,
           "#1f9e89"
          ],
          [
           0.6666666666666666,
           "#35b779"
          ],
          [
           0.7777777777777778,
           "#6ece58"
          ],
          [
           0.8888888888888888,
           "#b5de2b"
          ],
          [
           1,
           "#fde725"
          ]
         ],
         "locations": [
          "AFG",
          "ALB",
          "DZA",
          "ASM",
          "AND",
          "AGO",
          "AIA",
          "ATG",
          "ARG",
          "ARM",
          "ABW",
          "AUS",
          "AUT",
          "AZE",
          "BHM",
          "BHR",
          "BGD",
          "BRB",
          "BLR",
          "BEL",
          "BLZ",
          "BEN",
          "BMU",
          "BTN",
          "BOL",
          "BIH",
          "BWA",
          "BRA",
          "VGB",
          "BRN",
          "BGR",
          "BFA",
          "MMR",
          "BDI",
          "CPV",
          "KHM",
          "CMR",
          "CAN",
          "CYM",
          "CAF",
          "TCD",
          "CHL",
          "CHN",
          "COL",
          "COM",
          "COD",
          "COG",
          "COK",
          "CRI",
          "CIV",
          "HRV",
          "CUB",
          "CUW",
          "CYP",
          "CZE",
          "DNK",
          "DJI",
          "DMA",
          "DOM",
          "ECU",
          "EGY",
          "SLV",
          "GNQ",
          "ERI",
          "EST",
          "ETH",
          "FLK",
          "FRO",
          "FJI",
          "FIN",
          "FRA",
          "PYF",
          "GAB",
          "GMB",
          "GEO",
          "DEU",
          "GHA",
          "GIB",
          "GRC",
          "GRL",
          "GRD",
          "GUM",
          "GTM",
          "GGY",
          "GNB",
          "GIN",
          "GUY",
          "HTI",
          "HND",
          "HKG",
          "HUN",
          "ISL",
          "IND",
          "IDN",
          "IRN",
          "IRQ",
          "IRL",
          "IMN",
          "ISR",
          "ITA",
          "JAM",
          "JPN",
          "JEY",
          "JOR",
          "KAZ",
          "KEN",
          "KIR",
          "KOR",
          "PRK",
          "KSV",
          "KWT",
          "KGZ",
          "LAO",
          "LVA",
          "LBN",
          "LSO",
          "LBR",
          "LBY",
          "LIE",
          "LTU",
          "LUX",
          "MAC",
          "MKD",
          "MDG",
          "MWI",
          "MYS",
          "MDV",
          "MLI",
          "MLT",
          "MHL",
          "MRT",
          "MUS",
          "MEX",
          "FSM",
          "MDA",
          "MCO",
          "MNG",
          "MNE",
          "MAR",
          "MOZ",
          "NAM",
          "NPL",
          "NLD",
          "NCL",
          "NZL",
          "NIC",
          "NGA",
          "NER",
          "NIU",
          "MNP",
          "NOR",
          "OMN",
          "PAK",
          "PLW",
          "PAN",
          "PNG",
          "PRY",
          "PER",
          "PHL",
          "POL",
          "PRT",
          "PRI",
          "QAT",
          "ROU",
          "RUS",
          "RWA",
          "KNA",
          "LCA",
          "MAF",
          "SPM",
          "VCT",
          "WSM",
          "SMR",
          "STP",
          "SAU",
          "SEN",
          "SRB",
          "SYC",
          "SLE",
          "SGP",
          "SXM",
          "SVK",
          "SVN",
          "SLB",
          "SOM",
          "ZAF",
          "SSD",
          "ESP",
          "LKA",
          "SDN",
          "SUR",
          "SWZ",
          "SWE",
          "CHE",
          "SYR",
          "TWN",
          "TJK",
          "TZA",
          "THA",
          "TLS",
          "TGO",
          "TON",
          "TTO",
          "TUN",
          "TUR",
          "TKM",
          "TUV",
          "UGA",
          "UKR",
          "ARE",
          "GBR",
          "USA",
          "URY",
          "UZB",
          "VUT",
          "VEN",
          "VNM",
          "VGB",
          "WBG",
          "YEM",
          "ZMB",
          "ZWE"
         ],
         "marker": {
          "line": {
           "color": "darkgray",
           "width": 0.5
          }
         },
         "reversescale": true,
         "text": [
          "GDP per capita 388.7 USD<br>Population 38.041.754<br>Capital Kabul<br>",
          "GDP per capita 6396.2 USD<br>Population 2.854.191<br>Capital Tirana<br>",
          "GDP per capita 3787.0 USD<br>Population 43.053.054<br>Capital Algiers<br>",
          "GDP per capita 12818.2 USD<br>Population 55.312<br>Capital Pago Pago<br>",
          "GDP per capita error USD<br>Population Population not found<br>Capital Capital not found<br>",
          "GDP per capita 2117.9 USD<br>Population 31.825.295<br>Capital Luanda<br>",
          "GDP per capita error USD<br>Population Population not found<br>Capital The Valley<br>",
          "GDP per capita 15146.5 USD<br>Population 97.118<br>Capital Saint John's<br>",
          "GDP per capita 10842.0 USD<br>Population 44.938.712<br>Capital Buenos Aires<br>",
          "GDP per capita 4686.4 USD<br>Population 2.957.731<br>Capital Yerevan<br>",
          "GDP per capita 29403.5 USD<br>Population 106.314<br>Capital Oranjestad<br>",
          "GDP per capita 61214.6 USD<br>Population 25.364.307<br>Capital Canberra<br>",
          "GDP per capita 54113.4 USD<br>Population 8.877.067<br>Capital Vienna<br>",
          "GDP per capita 5449.5 USD<br>Population 10.023.318<br>Capital Baku<br>",
          "GDP per capita error USD<br>Population Population not found<br>Capital Capital not found<br>",
          "GDP per capita 23683.7 USD<br>Population 1.641.172<br>Capital Manama<br>",
          "GDP per capita 2553.0 USD<br>Population 163.046.161<br>Capital Dhaka<br>",
          "GDP per capita 16876.6 USD<br>Population 287.025<br>Capital Bridgetown<br>",
          "GDP per capita 7204.6 USD<br>Population 9.466.856<br>Capital Minsk<br>",
          "GDP per capita 51732.9 USD<br>Population 11.484.055<br>Capital Brussels<br>",
          "GDP per capita 6384.0 USD<br>Population 390.353<br>Capital Belmopan<br>",
          "GDP per capita 1452.8 USD<br>Population 11.801.151<br>Capital Porto-Novo<br>",
          "GDP per capita 114005.4 USD<br>Population 63.918<br>Capital Hamilton<br>",
          "GDP per capita 3328.6 USD<br>Population 763.092<br>Capital Thimphu<br>",
          "GDP per capita 3509.7 USD<br>Population 11.513.100<br>Capital Sucre<br>",
          "GDP per capita 7078.2 USD<br>Population 3.301.000<br>Capital Sarajevo<br>",
          "GDP per capita 7646.4 USD<br>Population 2.303.697<br>Capital Gaborone<br>",
          "GDP per capita 7623.7 USD<br>Population 211.049.527<br>Capital Brasília<br>",
          "GDP per capita error USD<br>Population Population not found<br>Capital Capital not found<br>",
          "GDP per capita 32327.5 USD<br>Population 433.285<br>Capital Bandar Seri Begawan<br>",
          "GDP per capita 12049.7 USD<br>Population 6.975.761<br>Capital Sofia<br>",
          "GDP per capita 971.3 USD<br>Population 20.321.378<br>Capital Ouagadougou<br>",
          "GDP per capita error USD<br>Population Population not found<br>Capital Capital not found<br>",
          "GDP per capita 241.1 USD<br>Population 11.530.580<br>Capital Bujumbura<br>",
          "GDP per capita error USD<br>Population Population not found<br>Capital Capital not found<br>",
          "GDP per capita 1635.3 USD<br>Population 16.486.542<br>Capital Phnom Penh<br>",
          "GDP per capita 1752.1 USD<br>Population 25.876.380<br>Capital Yaoundé<br>",
          "GDP per capita 52896.4 USD<br>Population 37.589.262<br>Capital Ottawa<br>",
          "GDP per capita 90811.1 USD<br>Population 64.948<br>Capital George Town<br>",
          "GDP per capita 530.2 USD<br>Population 4.745.185<br>Capital Bangui<br>",
          "GDP per capita 738.7 USD<br>Population 15.946.876<br>Capital N'Djamena<br>",
          "GDP per capita 16729.5 USD<br>Population 18.952.038<br>Capital Santiago<br>",
          "GDP per capita 12687.9 USD<br>Population 1.397.715.000<br>Capital Beijing<br>",
          "GDP per capita 6246.9 USD<br>Population 50.339.443<br>Capital Bogotá<br>",
          "GDP per capita 1523.1 USD<br>Population 850.886<br>Capital Moroni<br>",
          "GDP per capita 0.0 USD<br>Population 86.790.567<br>Capital Kinshasa<br>",
          "GDP per capita error USD<br>Population Population not found<br>Capital Capital not found<br>",
          "GDP per capita error USD<br>Population Population not found<br>Capital Avarua<br>",
          "GDP per capita 12735.3 USD<br>Population 5.047.561<br>Capital San José<br>",
          "GDP per capita error USD<br>Population Population not found<br>Capital Capital not found<br>",
          "GDP per capita 16952.7 USD<br>Population 4.067.500<br>Capital Zagreb<br>",
          "GDP per capita 0.0 USD<br>Population 11.333.483<br>Capital Havana<br>",
          "GDP per capita error USD<br>Population Population not found<br>Capital Capital not found<br>",
          "GDP per capita 23701.5 USD<br>Population 1.198.575<br>Capital Nicosia<br>",
          "GDP per capita 26409.2 USD<br>Population 10.669.709<br>Capital Prague<br>",
          "GDP per capita 68454.0 USD<br>Population 5.818.553<br>Capital Copenhagen<br>",
          "GDP per capita 3577.6 USD<br>Population 973.560<br>Capital Djibouti<br>",
          "GDP per capita 7715.0 USD<br>Population 71.808<br>Capital Roseau<br>",
          "GDP per capita 8775.8 USD<br>Population 10.738.958<br>Capital Santo Domingo<br>",
          "GDP per capita 6110.7 USD<br>Population 17.373.662<br>Capital Quito<br>",
          "GDP per capita 3638.4 USD<br>Population 100.388.073<br>Capital Cairo<br>",
          "GDP per capita 4452.9 USD<br>Population 6.453.553<br>Capital San Salvador<br>",
          "GDP per capita 9048.0 USD<br>Population 1.355.986<br>Capital Malabo<br>",
          "GDP per capita 0.0 USD<br>Population 3.497.117<br>Capital Asmara<br>",
          "GDP per capita 28035.0 USD<br>Population 1.326.590<br>Capital Tallinn<br>",
          "GDP per capita 992.8 USD<br>Population 112.078.730<br>Capital Addis Ababa<br>",
          "GDP per capita error USD<br>Population Population not found<br>Capital Capital not found<br>",
          "GDP per capita 74982.5 USD<br>Population 48.678<br>Capital Tórshavn<br>",
          "GDP per capita 4827.2 USD<br>Population 889.953<br>Capital Suva<br>",
          "GDP per capita 53856.0 USD<br>Population 5.520.314<br>Capital Helsinki<br>",
          "GDP per capita 44108.0 USD<br>Population 67.059.887<br>Capital Paris<br>",
          "GDP per capita 21680.2 USD<br>Population 279.287<br>Capital Papeetē<br>",
          "GDP per capita 9305.5 USD<br>Population 2.172.579<br>Capital Libreville<br>",
          "GDP per capita error USD<br>Population Population not found<br>Capital Capital not found<br>",
          "GDP per capita 5007.3 USD<br>Population 3.720.382<br>Capital Tbilisi<br>",
          "GDP per capita 51242.5 USD<br>Population 83.132.799<br>Capital Berlin<br>",
          "GDP per capita 2550.9 USD<br>Population 30.417.856<br>Capital Accra<br>",
          "GDP per capita 0.0 USD<br>Population 33.701<br>Capital Gibraltar<br>",
          "GDP per capita 20051.1 USD<br>Population 10.716.322<br>Capital Athens<br>",
          "GDP per capita 0.0 USD<br>Population 56.225<br>Capital Nuuk<br>",
          "GDP per capita 10026.5 USD<br>Population 112.003<br>Capital St. George's<br>",
          "GDP per capita 36600.2 USD<br>Population 167.294<br>Capital Hagåtña<br>",
          "GDP per capita 5178.6 USD<br>Population 16.604.026<br>Capital Guatemala City<br>",
          "GDP per capita error USD<br>Population Population not found<br>Capital St. Peter Port<br>",
          "GDP per capita 853.2 USD<br>Population 1.920.922<br>Capital Bissau<br>",
          "GDP per capita 1260.0 USD<br>Population 12.771.246<br>Capital Conakry<br>",
          "GDP per capita 10276.4 USD<br>Population 782.766<br>Capital Georgetown<br>",
          "GDP per capita 1859.5 USD<br>Population 11.263.077<br>Capital Port-au-Prince<br>",
          "GDP per capita 2923.1 USD<br>Population 9.746.117<br>Capital Tegucigalpa<br>",
          "GDP per capita 0.0 USD<br>Population 7.507.400<br>Capital City of Victoria<br>",
          "GDP per capita 18613.0 USD<br>Population 9.769.949<br>Capital Budapest<br>",
          "GDP per capita 70858.2 USD<br>Population 361.313<br>Capital Reykjavik<br>",
          "GDP per capita 2324.5 USD<br>Population 1.366.417.754<br>Capital New Delhi<br>",
          "GDP per capita 4382.8 USD<br>Population 270.625.568<br>Capital Jakarta<br>",
          "GDP per capita 2891.4 USD<br>Population 82.913.906<br>Capital Tehran<br>",
          "GDP per capita 5288.5 USD<br>Population 39.309.783<br>Capital Baghdad<br>",
          "GDP per capita 102031.5 USD<br>Population 4.941.444<br>Capital Dublin<br>",
          "GDP per capita 0.0 USD<br>Population 84.584<br>Capital Douglas<br>",
          "GDP per capita 53961.2 USD<br>Population 9.053.300<br>Capital Jerusalem<br>",
          "GDP per capita 34955.1 USD<br>Population 60.297.396<br>Capital Rome<br>",
          "GDP per capita 4971.7 USD<br>Population 2.948.279<br>Capital Kingston<br>",
          "GDP per capita 39131.0 USD<br>Population 126.264.931<br>Capital Tokyo<br>",
          "GDP per capita error USD<br>Population Population not found<br>Capital Saint Helier<br>",
          "GDP per capita 4528.3 USD<br>Population 10.101.694<br>Capital Amman<br>",
          "GDP per capita 10646.7 USD<br>Population 18.513.930<br>Capital Astana<br>",
          "GDP per capita 2098.9 USD<br>Population 52.573.973<br>Capital Nairobi<br>",
          "GDP per capita 1760.1 USD<br>Population 117.606<br>Capital South Tarawa<br>",
          "GDP per capita 0.0 USD<br>Population 25.666.161<br>Capital Pyongyang<br>",
          "GDP per capita 0.0 USD<br>Population 51.709.098<br>Capital Seoul<br>",
          "GDP per capita error USD<br>Population Population not found<br>Capital Capital not found<br>",
          "GDP per capita 0.0 USD<br>Population 4.207.083<br>Capital Kuwait City<br>",
          "GDP per capita 1323.1 USD<br>Population 6.456.900<br>Capital Bishkek<br>",
          "GDP per capita 2626.0 USD<br>Population 7.169.455<br>Capital Vientiane<br>",
          "GDP per capita 20835.5 USD<br>Population 1.912.789<br>Capital Riga<br>",
          "GDP per capita 3374.1 USD<br>Population 6.855.713<br>Capital Beirut<br>",
          "GDP per capita 1174.4 USD<br>Population 2.125.268<br>Capital Maseru<br>",
          "GDP per capita 710.7 USD<br>Population 4.937.374<br>Capital Monrovia<br>",
          "GDP per capita 6317.6 USD<br>Population 6.777.452<br>Capital Tripoli<br>",
          "GDP per capita 0.0 USD<br>Population 38.019<br>Capital Vaduz<br>",
          "GDP per capita 23842.4 USD<br>Population 2.786.844<br>Capital Vilnius<br>",
          "GDP per capita 137936.0 USD<br>Population 619.896<br>Capital Luxembourg<br>",
          "GDP per capita 0.0 USD<br>Population 640.445<br>Capital <br>",
          "GDP per capita error USD<br>Population Population not found<br>Capital Capital not found<br>",
          "GDP per capita 536.6 USD<br>Population 26.969.307<br>Capital Antananarivo<br>",
          "GDP per capita 677.8 USD<br>Population 18.628.747<br>Capital Lilongwe<br>",
          "GDP per capita 11674.0 USD<br>Population 31.949.777<br>Capital Kuala Lumpur<br>",
          "GDP per capita 10181.7 USD<br>Population 530.953<br>Capital Malé<br>",
          "GDP per capita 973.6 USD<br>Population 19.658.031<br>Capital Bamako<br>",
          "GDP per capita 34544.7 USD<br>Population 502.653<br>Capital Valletta<br>",
          "GDP per capita 4422.4 USD<br>Population 58.791<br>Capital Majuro<br>",
          "GDP per capita 2208.7 USD<br>Population 4.525.696<br>Capital Nouakchott<br>",
          "GDP per capita 9108.7 USD<br>Population 1.265.711<br>Capital Port Louis<br>",
          "GDP per capita 9977.1 USD<br>Population 127.575.529<br>Capital Mexico City<br>",
          "GDP per capita error USD<br>Population Population not found<br>Capital Capital not found<br>",
          "GDP per capita 5147.1 USD<br>Population 2.657.637<br>Capital Chișinău<br>",
          "GDP per capita 220613.9 USD<br>Population 38.964<br>Capital Monaco<br>",
          "GDP per capita 4739.6 USD<br>Population 3.225.167<br>Capital Ulan Bator<br>",
          "GDP per capita error USD<br>Population Population not found<br>Capital Capital not found<br>",
          "GDP per capita 3917.2 USD<br>Population 36.471.769<br>Capital Rabat<br>",
          "GDP per capita 519.6 USD<br>Population 30.366.036<br>Capital Maputo<br>",
          "GDP per capita 4935.2 USD<br>Population 2.494.530<br>Capital Windhoek<br>",
          "GDP per capita 1268.5 USD<br>Population 28.608.710<br>Capital Kathmandu<br>",
          "GDP per capita 58435.1 USD<br>Population 17.332.850<br>Capital Amsterdam<br>",
          "GDP per capita 34993.1 USD<br>Population 287.800<br>Capital Nouméa<br>",
          "GDP per capita 50820.8 USD<br>Population 4.917.000<br>Capital Wellington<br>",
          "GDP per capita 2140.9 USD<br>Population 6.545.502<br>Capital Managua<br>",
          "GDP per capita 2193.6 USD<br>Population 200.963.599<br>Capital Abuja<br>",
          "GDP per capita 639.8 USD<br>Population 23.310.715<br>Capital Niamey<br>",
          "GDP per capita error USD<br>Population Population not found<br>Capital Alofi<br>",
          "GDP per capita 0.0 USD<br>Population 57.216<br>Capital Saipan<br>",
          "GDP per capita 90161.6 USD<br>Population 5.347.896<br>Capital Oslo<br>",
          "GDP per capita 17727.1 USD<br>Population 4.974.986<br>Capital Muscat<br>",
          "GDP per capita 1608.1 USD<br>Population 216.565.318<br>Capital Islamabad<br>",
          "GDP per capita 12105.7 USD<br>Population 18.008<br>Capital Ngerulmud<br>",
          "GDP per capita 14978.4 USD<br>Population 4.246.439<br>Capital Panama City<br>",
          "GDP per capita 3030.3 USD<br>Population 8.776.109<br>Capital Port Moresby<br>",
          "GDP per capita 5606.4 USD<br>Population 7.044.636<br>Capital Asunción<br>",
          "GDP per capita 6867.0 USD<br>Population 32.510.453<br>Capital Lima<br>",
          "GDP per capita 3645.0 USD<br>Population 108.116.615<br>Capital Manila<br>",
          "GDP per capita 17893.8 USD<br>Population 37.970.874<br>Capital Warsaw<br>",
          "GDP per capita 24700.8 USD<br>Population 10.269.417<br>Capital Lisbon<br>",
          "GDP per capita 33355.1 USD<br>Population 3.193.694<br>Capital San Juan<br>",
          "GDP per capita 63443.8 USD<br>Population 2.832.067<br>Capital Doha<br>",
          "GDP per capita 14676.6 USD<br>Population 19.356.544<br>Capital Bucharest<br>",
          "GDP per capita 12320.7 USD<br>Population 144.373.535<br>Capital Moscow<br>",
          "GDP per capita 876.7 USD<br>Population 12.626.950<br>Capital Kigali<br>",
          "GDP per capita 16299.7 USD<br>Population 52.823<br>Capital Basseterre<br>",
          "GDP per capita 9251.1 USD<br>Population 182.790<br>Capital Castries<br>",
          "GDP per capita error USD<br>Population Population not found<br>Capital Capital not found<br>",
          "GDP per capita error USD<br>Population Population not found<br>Capital Saint-Pierre<br>",
          "GDP per capita 8174.4 USD<br>Population 110.589<br>Capital Kingstown<br>",
          "GDP per capita 4282.2 USD<br>Population 197.097<br>Capital Apia<br>",
          "GDP per capita 0.0 USD<br>Population 33.860<br>Capital City of San Marino<br>",
          "GDP per capita error USD<br>Population Population not found<br>Capital Capital not found<br>",
          "GDP per capita 24323.8 USD<br>Population 34.268.528<br>Capital Riyadh<br>",
          "GDP per capita 1695.2 USD<br>Population 16.296.364<br>Capital Dakar<br>",
          "GDP per capita error USD<br>Population Population not found<br>Capital Belgrade<br>",
          "GDP per capita 14893.7 USD<br>Population 97.625<br>Capital Victoria<br>",
          "GDP per capita 517.3 USD<br>Population 7.813.215<br>Capital Freetown<br>",
          "GDP per capita 69603.3 USD<br>Population 5.703.569<br>Capital Singapore<br>",
          "GDP per capita error USD<br>Population Population not found<br>Capital Capital not found<br>",
          "GDP per capita 21365.1 USD<br>Population 5.454.073<br>Capital Bratislava<br>",
          "GDP per capita 29574.0 USD<br>Population 2.087.946<br>Capital Ljubljana<br>",
          "GDP per capita 2435.0 USD<br>Population 669.823<br>Capital Honiara<br>",
          "GDP per capita 493.9 USD<br>Population 15.442.905<br>Capital Mogadishu<br>",
          "GDP per capita 7155.5 USD<br>Population 58.558.270<br>Capital Pretoria<br>",
          "GDP per capita 0.0 USD<br>Population 11.062.113<br>Capital Juba<br>",
          "GDP per capita 30320.3 USD<br>Population 47.076.781<br>Capital Madrid<br>",
          "GDP per capita 4078.7 USD<br>Population 21.803.000<br>Capital Colombo<br>",
          "GDP per capita 801.8 USD<br>Population 42.813.238<br>Capital Khartoum<br>",
          "GDP per capita 5134.4 USD<br>Population 581.372<br>Capital Paramaribo<br>",
          "GDP per capita 4131.1 USD<br>Population 1.148.130<br>Capital Lobamba<br>",
          "GDP per capita 61802.2 USD<br>Population 10.285.453<br>Capital Stockholm<br>",
          "GDP per capita 93370.9 USD<br>Population 8.574.832<br>Capital Bern<br>",
          "GDP per capita 0.0 USD<br>Population 17.070.135<br>Capital Damascus<br>",
          "GDP per capita error USD<br>Population Population not found<br>Capital Taipei<br>",
          "GDP per capita 938.3 USD<br>Population 9.321.018<br>Capital Dushanbe<br>",
          "GDP per capita 1169.6 USD<br>Population 58.005.463<br>Capital Dodoma<br>",
          "GDP per capita 7266.7 USD<br>Population 69.625.582<br>Capital Bangkok<br>",
          "GDP per capita error USD<br>Population Population not found<br>Capital Capital not found<br>",
          "GDP per capita 1040.9 USD<br>Population 8.082.366<br>Capital Lomé<br>",
          "GDP per capita 4488.3 USD<br>Population 104.494<br>Capital Nuku'alofa<br>",
          "GDP per capita 17534.4 USD<br>Population 1.394.973<br>Capital Port of Spain<br>",
          "GDP per capita 3992.1 USD<br>Population 11.694.719<br>Capital Tunis<br>",
          "GDP per capita 9817.1 USD<br>Population 83.429.615<br>Capital Ankara<br>",
          "GDP per capita 0.0 USD<br>Population 5.942.089<br>Capital Ashgabat<br>",
          "GDP per capita 5409.6 USD<br>Population 11.646<br>Capital Funafuti<br>",
          "GDP per capita 915.5 USD<br>Population 44.269.594<br>Capital Kampala<br>",
          "GDP per capita 4507.9 USD<br>Population 44.385.155<br>Capital Kiev<br>",
          "GDP per capita 42476.9 USD<br>Population 9.770.529<br>Capital Abu Dhabi<br>",
          "GDP per capita 46852.8 USD<br>Population 66.834.405<br>Capital London<br>",
          "GDP per capita 71030.7 USD<br>Population 328.239.523<br>Capital Washington D.C.<br>",
          "GDP per capita 17135.6 USD<br>Population 3.461.734<br>Capital Montevideo<br>",
          "GDP per capita 2061.9 USD<br>Population 33.580.650<br>Capital Tashkent<br>",
          "GDP per capita 3187.9 USD<br>Population 299.882<br>Capital Port Vila<br>",
          "GDP per capita 0.0 USD<br>Population 28.515.829<br>Capital Caracas<br>",
          "GDP per capita 3795.7 USD<br>Population 96.462.106<br>Capital Hanoi<br>",
          "GDP per capita error USD<br>Population Population not found<br>Capital Capital not found<br>",
          "GDP per capita error USD<br>Population Population not found<br>Capital Capital not found<br>",
          "GDP per capita 0.0 USD<br>Population 29.161.922<br>Capital Sana'a<br>",
          "GDP per capita 1240.0 USD<br>Population 17.861.030<br>Capital Lusaka<br>",
          "GDP per capita 1937.2 USD<br>Population 14.645.468<br>Capital Harare<br>"
         ],
         "type": "choropleth",
         "z": [
          "147.87",
          "182.56",
          "1630.44",
          "7.09",
          "33.3",
          "674.04",
          "0.0",
          "14.71",
          "4872.27",
          "138.61",
          "31.26",
          "15526.67",
          "4803.68",
          "546.22",
          "97.0",
          "388.69",
          "4162.65",
          "48.44",
          "682.05",
          "5941.04",
          "24.92",
          "171.45",
          "72.87",
          "25.4",
          "404.08",
          "233.65",
          "176.15",
          "16089.81",
          "0.0",
          "140.07",
          "840.56",
          "197.38",
          "650.92",
          "27.8",
          "19.36",
          "269.61",
          "453.38",
          "19883.36",
          "58.98",
          "25.16",
          "117.8",
          "3170.59",
          "177340.63",
          "3144.64",
          "12.96",
          "0.0",
          "0.0",
          "0.0",
          "642.82",
          "700.43",
          "689.55",
          "0.0",
          "27.0",
          "284.08",
          "2817.78",
          "3983.03",
          "34.83",
          "5.54",
          "942.43",
          "1061.66",
          "3652.53",
          "287.37",
          "122.69",
          "0.0",
          "371.91",
          "1112.71",
          "0.0",
          "36.5",
          "42.96",
          "2973.02",
          "29578.8",
          "60.55",
          "202.17",
          "18.12",
          "186.29",
          "42599.35",
          "775.94",
          "0.0",
          "2148.74",
          "0.0",
          "11.23",
          "61.23",
          "859.86",
          "0.0",
          "16.39",
          "160.92",
          "80.44",
          "209.44",
          "284.89",
          "0.0",
          "1818.48",
          "256.02",
          "31762.95",
          "11860.93",
          "2397.36",
          "2078.89",
          "5041.83",
          "0.0",
          "4885.27",
          "21077.03",
          "146.58",
          "49408.78",
          "0.0",
          "457.44",
          "1971.12",
          "1103.47",
          "2.07",
          "0.0",
          "0.0",
          "94.12",
          "0.0",
          "85.43",
          "188.27",
          "398.54",
          "231.32",
          "24.96",
          "35.09",
          "428.17",
          "0.0",
          "664.45",
          "855.06",
          "0.0",
          "138.25",
          "144.73",
          "126.27",
          "3729.81",
          "54.06",
          "191.4",
          "173.64",
          "2.6",
          "99.96",
          "115.29",
          "12728.39",
          "0.0",
          "136.79",
          "85.96",
          "152.86",
          "58.61",
          "1428.66",
          "157.77",
          "123.11",
          "362.89",
          "10128.47",
          "100.71",
          "2498.86",
          "140.13",
          "4408.34",
          "149.15",
          "0.0",
          "0.0",
          "4821.75",
          "881.92",
          "3482.63",
          "2.18",
          "636.05",
          "265.94",
          "394.95",
          "2232.49",
          "3940.86",
          "6794.45",
          "2536.63",
          "1065.26",
          "1796.77",
          "2840.88",
          "17787.83",
          "110.7",
          "8.61",
          "16.91",
          "0.0",
          "0.0",
          "9.04",
          "8.44",
          "0.0",
          "5.27",
          "8335.41",
          "276.25",
          "630.82",
          "14.54",
          "40.42",
          "3969.87",
          "0.0",
          "1165.27",
          "617.49",
          "16.31",
          "76.28",
          "4190.15",
          "0.0",
          "14273.81",
          "889.27",
          "343.26",
          "29.85",
          "47.43",
          "6356.64",
          "8006.4",
          "0.0",
          "0.0",
          "87.46",
          "678.41",
          "5059.47",
          "36.21",
          "84.13",
          "4.69",
          "244.6",
          "466.87",
          "8190.35",
          "0.0",
          "0.63",
          "405.3",
          "2000.86",
          "4150.22",
          "31313.78",
          "233150.81",
          "593.19",
          "692.39",
          "9.56",
          "0.0",
          "3661.38",
          "0.0",
          "0.0",
          "0.0",
          "221.48",
          "283.71"
         ]
        }
       ],
       "layout": {
        "geo": {
         "countrycolor": "White",
         "projection": {
          "type": "equirectangular"
         },
         "showcoastlines": false,
         "showcountries": true,
         "showframe": false,
         "showlakes": false
        },
        "template": {
         "data": {
          "bar": [
           {
            "error_x": {
             "color": "#2a3f5f"
            },
            "error_y": {
             "color": "#2a3f5f"
            },
            "marker": {
             "line": {
              "color": "#E5ECF6",
              "width": 0.5
             },
             "pattern": {
              "fillmode": "overlay",
              "size": 10,
              "solidity": 0.2
             }
            },
            "type": "bar"
           }
          ],
          "barpolar": [
           {
            "marker": {
             "line": {
              "color": "#E5ECF6",
              "width": 0.5
             },
             "pattern": {
              "fillmode": "overlay",
              "size": 10,
              "solidity": 0.2
             }
            },
            "type": "barpolar"
           }
          ],
          "carpet": [
           {
            "aaxis": {
             "endlinecolor": "#2a3f5f",
             "gridcolor": "white",
             "linecolor": "white",
             "minorgridcolor": "white",
             "startlinecolor": "#2a3f5f"
            },
            "baxis": {
             "endlinecolor": "#2a3f5f",
             "gridcolor": "white",
             "linecolor": "white",
             "minorgridcolor": "white",
             "startlinecolor": "#2a3f5f"
            },
            "type": "carpet"
           }
          ],
          "choropleth": [
           {
            "colorbar": {
             "outlinewidth": 0,
             "ticks": ""
            },
            "type": "choropleth"
           }
          ],
          "contour": [
           {
            "colorbar": {
             "outlinewidth": 0,
             "ticks": ""
            },
            "colorscale": [
             [
              0,
              "#0d0887"
             ],
             [
              0.1111111111111111,
              "#46039f"
             ],
             [
              0.2222222222222222,
              "#7201a8"
             ],
             [
              0.3333333333333333,
              "#9c179e"
             ],
             [
              0.4444444444444444,
              "#bd3786"
             ],
             [
              0.5555555555555556,
              "#d8576b"
             ],
             [
              0.6666666666666666,
              "#ed7953"
             ],
             [
              0.7777777777777778,
              "#fb9f3a"
             ],
             [
              0.8888888888888888,
              "#fdca26"
             ],
             [
              1,
              "#f0f921"
             ]
            ],
            "type": "contour"
           }
          ],
          "contourcarpet": [
           {
            "colorbar": {
             "outlinewidth": 0,
             "ticks": ""
            },
            "type": "contourcarpet"
           }
          ],
          "heatmap": [
           {
            "colorbar": {
             "outlinewidth": 0,
             "ticks": ""
            },
            "colorscale": [
             [
              0,
              "#0d0887"
             ],
             [
              0.1111111111111111,
              "#46039f"
             ],
             [
              0.2222222222222222,
              "#7201a8"
             ],
             [
              0.3333333333333333,
              "#9c179e"
             ],
             [
              0.4444444444444444,
              "#bd3786"
             ],
             [
              0.5555555555555556,
              "#d8576b"
             ],
             [
              0.6666666666666666,
              "#ed7953"
             ],
             [
              0.7777777777777778,
              "#fb9f3a"
             ],
             [
              0.8888888888888888,
              "#fdca26"
             ],
             [
              1,
              "#f0f921"
             ]
            ],
            "type": "heatmap"
           }
          ],
          "heatmapgl": [
           {
            "colorbar": {
             "outlinewidth": 0,
             "ticks": ""
            },
            "colorscale": [
             [
              0,
              "#0d0887"
             ],
             [
              0.1111111111111111,
              "#46039f"
             ],
             [
              0.2222222222222222,
              "#7201a8"
             ],
             [
              0.3333333333333333,
              "#9c179e"
             ],
             [
              0.4444444444444444,
              "#bd3786"
             ],
             [
              0.5555555555555556,
              "#d8576b"
             ],
             [
              0.6666666666666666,
              "#ed7953"
             ],
             [
              0.7777777777777778,
              "#fb9f3a"
             ],
             [
              0.8888888888888888,
              "#fdca26"
             ],
             [
              1,
              "#f0f921"
             ]
            ],
            "type": "heatmapgl"
           }
          ],
          "histogram": [
           {
            "marker": {
             "pattern": {
              "fillmode": "overlay",
              "size": 10,
              "solidity": 0.2
             }
            },
            "type": "histogram"
           }
          ],
          "histogram2d": [
           {
            "colorbar": {
             "outlinewidth": 0,
             "ticks": ""
            },
            "colorscale": [
             [
              0,
              "#0d0887"
             ],
             [
              0.1111111111111111,
              "#46039f"
             ],
             [
              0.2222222222222222,
              "#7201a8"
             ],
             [
              0.3333333333333333,
              "#9c179e"
             ],
             [
              0.4444444444444444,
              "#bd3786"
             ],
             [
              0.5555555555555556,
              "#d8576b"
             ],
             [
              0.6666666666666666,
              "#ed7953"
             ],
             [
              0.7777777777777778,
              "#fb9f3a"
             ],
             [
              0.8888888888888888,
              "#fdca26"
             ],
             [
              1,
              "#f0f921"
             ]
            ],
            "type": "histogram2d"
           }
          ],
          "histogram2dcontour": [
           {
            "colorbar": {
             "outlinewidth": 0,
             "ticks": ""
            },
            "colorscale": [
             [
              0,
              "#0d0887"
             ],
             [
              0.1111111111111111,
              "#46039f"
             ],
             [
              0.2222222222222222,
              "#7201a8"
             ],
             [
              0.3333333333333333,
              "#9c179e"
             ],
             [
              0.4444444444444444,
              "#bd3786"
             ],
             [
              0.5555555555555556,
              "#d8576b"
             ],
             [
              0.6666666666666666,
              "#ed7953"
             ],
             [
              0.7777777777777778,
              "#fb9f3a"
             ],
             [
              0.8888888888888888,
              "#fdca26"
             ],
             [
              1,
              "#f0f921"
             ]
            ],
            "type": "histogram2dcontour"
           }
          ],
          "mesh3d": [
           {
            "colorbar": {
             "outlinewidth": 0,
             "ticks": ""
            },
            "type": "mesh3d"
           }
          ],
          "parcoords": [
           {
            "line": {
             "colorbar": {
              "outlinewidth": 0,
              "ticks": ""
             }
            },
            "type": "parcoords"
           }
          ],
          "pie": [
           {
            "automargin": true,
            "type": "pie"
           }
          ],
          "scatter": [
           {
            "fillpattern": {
             "fillmode": "overlay",
             "size": 10,
             "solidity": 0.2
            },
            "type": "scatter"
           }
          ],
          "scatter3d": [
           {
            "line": {
             "colorbar": {
              "outlinewidth": 0,
              "ticks": ""
             }
            },
            "marker": {
             "colorbar": {
              "outlinewidth": 0,
              "ticks": ""
             }
            },
            "type": "scatter3d"
           }
          ],
          "scattercarpet": [
           {
            "marker": {
             "colorbar": {
              "outlinewidth": 0,
              "ticks": ""
             }
            },
            "type": "scattercarpet"
           }
          ],
          "scattergeo": [
           {
            "marker": {
             "colorbar": {
              "outlinewidth": 0,
              "ticks": ""
             }
            },
            "type": "scattergeo"
           }
          ],
          "scattergl": [
           {
            "marker": {
             "colorbar": {
              "outlinewidth": 0,
              "ticks": ""
             }
            },
            "type": "scattergl"
           }
          ],
          "scattermapbox": [
           {
            "marker": {
             "colorbar": {
              "outlinewidth": 0,
              "ticks": ""
             }
            },
            "type": "scattermapbox"
           }
          ],
          "scatterpolar": [
           {
            "marker": {
             "colorbar": {
              "outlinewidth": 0,
              "ticks": ""
             }
            },
            "type": "scatterpolar"
           }
          ],
          "scatterpolargl": [
           {
            "marker": {
             "colorbar": {
              "outlinewidth": 0,
              "ticks": ""
             }
            },
            "type": "scatterpolargl"
           }
          ],
          "scatterternary": [
           {
            "marker": {
             "colorbar": {
              "outlinewidth": 0,
              "ticks": ""
             }
            },
            "type": "scatterternary"
           }
          ],
          "surface": [
           {
            "colorbar": {
             "outlinewidth": 0,
             "ticks": ""
            },
            "colorscale": [
             [
              0,
              "#0d0887"
             ],
             [
              0.1111111111111111,
              "#46039f"
             ],
             [
              0.2222222222222222,
              "#7201a8"
             ],
             [
              0.3333333333333333,
              "#9c179e"
             ],
             [
              0.4444444444444444,
              "#bd3786"
             ],
             [
              0.5555555555555556,
              "#d8576b"
             ],
             [
              0.6666666666666666,
              "#ed7953"
             ],
             [
              0.7777777777777778,
              "#fb9f3a"
             ],
             [
              0.8888888888888888,
              "#fdca26"
             ],
             [
              1,
              "#f0f921"
             ]
            ],
            "type": "surface"
           }
          ],
          "table": [
           {
            "cells": {
             "fill": {
              "color": "#EBF0F8"
             },
             "line": {
              "color": "white"
             }
            },
            "header": {
             "fill": {
              "color": "#C8D4E3"
             },
             "line": {
              "color": "white"
             }
            },
            "type": "table"
           }
          ]
         },
         "layout": {
          "annotationdefaults": {
           "arrowcolor": "#2a3f5f",
           "arrowhead": 0,
           "arrowwidth": 1
          },
          "autotypenumbers": "strict",
          "coloraxis": {
           "colorbar": {
            "outlinewidth": 0,
            "ticks": ""
           }
          },
          "colorscale": {
           "diverging": [
            [
             0,
             "#8e0152"
            ],
            [
             0.1,
             "#c51b7d"
            ],
            [
             0.2,
             "#de77ae"
            ],
            [
             0.3,
             "#f1b6da"
            ],
            [
             0.4,
             "#fde0ef"
            ],
            [
             0.5,
             "#f7f7f7"
            ],
            [
             0.6,
             "#e6f5d0"
            ],
            [
             0.7,
             "#b8e186"
            ],
            [
             0.8,
             "#7fbc41"
            ],
            [
             0.9,
             "#4d9221"
            ],
            [
             1,
             "#276419"
            ]
           ],
           "sequential": [
            [
             0,
             "#0d0887"
            ],
            [
             0.1111111111111111,
             "#46039f"
            ],
            [
             0.2222222222222222,
             "#7201a8"
            ],
            [
             0.3333333333333333,
             "#9c179e"
            ],
            [
             0.4444444444444444,
             "#bd3786"
            ],
            [
             0.5555555555555556,
             "#d8576b"
            ],
            [
             0.6666666666666666,
             "#ed7953"
            ],
            [
             0.7777777777777778,
             "#fb9f3a"
            ],
            [
             0.8888888888888888,
             "#fdca26"
            ],
            [
             1,
             "#f0f921"
            ]
           ],
           "sequentialminus": [
            [
             0,
             "#0d0887"
            ],
            [
             0.1111111111111111,
             "#46039f"
            ],
            [
             0.2222222222222222,
             "#7201a8"
            ],
            [
             0.3333333333333333,
             "#9c179e"
            ],
            [
             0.4444444444444444,
             "#bd3786"
            ],
            [
             0.5555555555555556,
             "#d8576b"
            ],
            [
             0.6666666666666666,
             "#ed7953"
            ],
            [
             0.7777777777777778,
             "#fb9f3a"
            ],
            [
             0.8888888888888888,
             "#fdca26"
            ],
            [
             1,
             "#f0f921"
            ]
           ]
          },
          "colorway": [
           "#636efa",
           "#EF553B",
           "#00cc96",
           "#ab63fa",
           "#FFA15A",
           "#19d3f3",
           "#FF6692",
           "#B6E880",
           "#FF97FF",
           "#FECB52"
          ],
          "font": {
           "color": "#2a3f5f"
          },
          "geo": {
           "bgcolor": "white",
           "lakecolor": "white",
           "landcolor": "#E5ECF6",
           "showlakes": true,
           "showland": true,
           "subunitcolor": "white"
          },
          "hoverlabel": {
           "align": "left"
          },
          "hovermode": "closest",
          "mapbox": {
           "style": "light"
          },
          "paper_bgcolor": "white",
          "plot_bgcolor": "#E5ECF6",
          "polar": {
           "angularaxis": {
            "gridcolor": "white",
            "linecolor": "white",
            "ticks": ""
           },
           "bgcolor": "#E5ECF6",
           "radialaxis": {
            "gridcolor": "white",
            "linecolor": "white",
            "ticks": ""
           }
          },
          "scene": {
           "xaxis": {
            "backgroundcolor": "#E5ECF6",
            "gridcolor": "white",
            "gridwidth": 2,
            "linecolor": "white",
            "showbackground": true,
            "ticks": "",
            "zerolinecolor": "white"
           },
           "yaxis": {
            "backgroundcolor": "#E5ECF6",
            "gridcolor": "white",
            "gridwidth": 2,
            "linecolor": "white",
            "showbackground": true,
            "ticks": "",
            "zerolinecolor": "white"
           },
           "zaxis": {
            "backgroundcolor": "#E5ECF6",
            "gridcolor": "white",
            "gridwidth": 2,
            "linecolor": "white",
            "showbackground": true,
            "ticks": "",
            "zerolinecolor": "white"
           }
          },
          "shapedefaults": {
           "line": {
            "color": "#2a3f5f"
           }
          },
          "ternary": {
           "aaxis": {
            "gridcolor": "white",
            "linecolor": "white",
            "ticks": ""
           },
           "baxis": {
            "gridcolor": "white",
            "linecolor": "white",
            "ticks": ""
           },
           "bgcolor": "#E5ECF6",
           "caxis": {
            "gridcolor": "white",
            "linecolor": "white",
            "ticks": ""
           }
          },
          "title": {
           "x": 0.05
          },
          "xaxis": {
           "automargin": true,
           "gridcolor": "white",
           "linecolor": "white",
           "ticks": "",
           "title": {
            "standoff": 15
           },
           "zerolinecolor": "white",
           "zerolinewidth": 2
          },
          "yaxis": {
           "automargin": true,
           "gridcolor": "white",
           "linecolor": "white",
           "ticks": "",
           "title": {
            "standoff": 15
           },
           "zerolinecolor": "white",
           "zerolinewidth": 2
          }
         }
        },
        "title": {
         "text": "2021 Global GDP"
        }
       }
      }
     },
     "metadata": {},
     "output_type": "display_data"
    }
   ],
   "source": [
    "#https://plotly.com/python/choropleth-maps/#world-choropleth-map\n",
    "import plotly.graph_objects as go\n",
    "\n",
    "for col in countries.columns:\n",
    "    countries[col] = countries[col].astype(str)\n",
    "\n",
    "countries['text'] = 'GDP per capita ' +  countries['GDP_2021_per_capita']  + ' USD' + '<br>' + \\\n",
    "                    'Population ' + countries['population'] +  '<br>' + \\\n",
    "                    'Capital '  + countries['capital'] +  '<br>'\n",
    "     \n",
    "\n",
    "fig = go.Figure(data=go.Choropleth(\n",
    "    locations = countries['code'],\n",
    "    z = countries['GDP_2021_USD_in_billions'],\n",
    "    text = countries['text'],\n",
    "    colorscale = 'Viridis',\n",
    "    autocolorscale=False,\n",
    "    reversescale=True,\n",
    "    marker_line_color='darkgray',\n",
    "    marker_line_width=0.5,\n",
    "    colorbar_tickprefix = '$',\n",
    "    colorbar_title = 'GDP<br>Billions USD',))\n",
    "\n",
    "\n",
    "fig.update_layout(\n",
    "    title_text='2021 Global GDP',\n",
    "    geo=dict(\n",
    "        showframe=False,\n",
    "        showcoastlines=False,\n",
    "        projection_type='equirectangular',\n",
    "        showlakes = False, \n",
    "        showcountries = True, \n",
    "        countrycolor=\"White\"\n",
    "    ))\n",
    "\n",
    "fig.show()\n"
   ]
  }
 ],
 "metadata": {
  "kernelspec": {
   "display_name": "Python 3 (ipykernel)",
   "language": "python",
   "name": "python3"
  },
  "language_info": {
   "codemirror_mode": {
    "name": "ipython",
    "version": 3
   },
   "file_extension": ".py",
   "mimetype": "text/x-python",
   "name": "python",
   "nbconvert_exporter": "python",
   "pygments_lexer": "ipython3",
   "version": "3.10.4"
  },
  "vscode": {
   "interpreter": {
    "hash": "bd6ef85fe50e86292ef54aa5a1e212b27b54c7e96acc8672e6ffc9c7174fe1fb"
   }
  }
 },
 "nbformat": 4,
 "nbformat_minor": 2
}
